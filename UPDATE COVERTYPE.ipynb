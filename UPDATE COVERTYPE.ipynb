https://gist.github.com/0cf838ef824c8f2c66695a5ef60b7679.git
